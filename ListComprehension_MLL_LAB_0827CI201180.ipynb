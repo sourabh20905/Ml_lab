{
  "nbformat": 4,
  "nbformat_minor": 0,
  "metadata": {
    "colab": {
      "provenance": [],
      "include_colab_link": true
    },
    "kernelspec": {
      "name": "python3",
      "display_name": "Python 3"
    },
    "language_info": {
      "name": "python"
    }
  },
  "cells": [
    {
      "cell_type": "markdown",
      "metadata": {
        "id": "view-in-github",
        "colab_type": "text"
      },
      "source": [
        "<a href=\"https://colab.research.google.com/github/PrasoonTripathi6602/Assignments-Summer-Internship-Training/blob/main/ListComprehension_MLL_LAB_0827CI201140.ipynb\" target=\"_parent\"><img src=\"https://colab.research.google.com/assets/colab-badge.svg\" alt=\"Open In Colab\"/></a>"
      ]
    },
    {
      "cell_type": "code",
      "source": [
        "x = [i for i in range(15)]\n",
        "x"
      ],
      "metadata": {
        "id": "xokNcbjt5elV",
        "colab": {
          "base_uri": "https://localhost:8080/"
        },
        "outputId": "1917075d-2006-49f6-ac06-5400da64b278"
      },
      "execution_count": null,
      "outputs": [
        {
          "output_type": "execute_result",
          "data": {
            "text/plain": [
              "[0, 1, 2, 3, 4, 5, 6, 7, 8, 9, 10, 11, 12, 13, 14]"
            ]
          },
          "metadata": {},
          "execution_count": 4
        }
      ]
    },
    {
      "cell_type": "code",
      "source": [
        "a = [4,6,7,3,2]\n",
        "b = [x*2 for x in a if x > 5]\n",
        "b"
      ],
      "metadata": {
        "id": "37EPuY6j2vTW",
        "colab": {
          "base_uri": "https://localhost:8080/"
        },
        "outputId": "607b7910-28fd-4804-8bc0-7851804af20c"
      },
      "execution_count": null,
      "outputs": [
        {
          "output_type": "execute_result",
          "data": {
            "text/plain": [
              "[12, 14]"
            ]
          },
          "metadata": {},
          "execution_count": 16
        }
      ]
    },
    {
      "cell_type": "code",
      "source": [
        "my_list = [2, 5, 8, 11, 15]\n",
        "new_list = [x*2 if x < 10 else x+1 for x in my_list]\n",
        "print(new_list)"
      ],
      "metadata": {
        "id": "KzcpXZGu6di7",
        "colab": {
          "base_uri": "https://localhost:8080/"
        },
        "outputId": "7ebcbd44-25dc-4411-c20e-dd4784e42132"
      },
      "execution_count": null,
      "outputs": [
        {
          "output_type": "stream",
          "name": "stdout",
          "text": [
            "[4, 10, 16, 12, 16]\n"
          ]
        }
      ]
    },
    {
      "cell_type": "code",
      "source": [
        "my_list = [i for i in range(1, 30) if i%2==0 if i%5==0]\n",
        "print(my_list)"
      ],
      "metadata": {
        "id": "csY5o9lL6nTD"
      },
      "execution_count": null,
      "outputs": []
    },
    {
      "cell_type": "code",
      "source": [
        "names = ['Ch','Dh','Eh','cb','Tb','Td']\n",
        "new_names = [name for name in names if name.lower().startswith('c')]\n",
        "new_names\n"
      ],
      "metadata": {
        "id": "sXPcOeYm27yN",
        "colab": {
          "base_uri": "https://localhost:8080/"
        },
        "outputId": "e9cbf3b5-8f18-4977-ddec-0f32f7308b14"
      },
      "execution_count": null,
      "outputs": [
        {
          "output_type": "execute_result",
          "data": {
            "text/plain": [
              "['Ch', 'cb']"
            ]
          },
          "metadata": {},
          "execution_count": 18
        }
      ]
    },
    {
      "cell_type": "code",
      "source": [
        "new_list = [num * 2 for num in range(5)]\n",
        "new_list"
      ],
      "metadata": {
        "id": "-XlDO7XA34tf",
        "colab": {
          "base_uri": "https://localhost:8080/"
        },
        "outputId": "05208b56-aa35-4f3b-e05e-5db698415349"
      },
      "execution_count": null,
      "outputs": [
        {
          "output_type": "execute_result",
          "data": {
            "text/plain": [
              "[0, 2, 4, 6, 8]"
            ]
          },
          "metadata": {},
          "execution_count": 21
        }
      ]
    },
    {
      "cell_type": "code",
      "source": [
        "new_list = [num for num in range(50) if  num > 20 and num % 2 == 0]\n",
        "new_list"
      ],
      "metadata": {
        "id": "CErX4Qvj3-rW",
        "colab": {
          "base_uri": "https://localhost:8080/"
        },
        "outputId": "90b703ec-963e-4e79-a6b4-b4355b6f1add"
      },
      "execution_count": null,
      "outputs": [
        {
          "output_type": "execute_result",
          "data": {
            "text/plain": [
              "[22, 24, 26, 28, 30, 32, 34, 36, 38, 40, 42, 44, 46, 48]"
            ]
          },
          "metadata": {},
          "execution_count": 22
        }
      ]
    },
    {
      "cell_type": "code",
      "source": [
        "fave_language_chars = [letter for letter in \"Python\"]\n",
        "fave_language_chars"
      ],
      "metadata": {
        "id": "z8uvh7m74Fuj",
        "colab": {
          "base_uri": "https://localhost:8080/"
        },
        "outputId": "b7a56bdb-ba47-4b4b-fb26-ebb699881dbf"
      },
      "execution_count": null,
      "outputs": [
        {
          "output_type": "execute_result",
          "data": {
            "text/plain": [
              "['P', 'y', 't', 'h', 'o', 'n']"
            ]
          },
          "metadata": {},
          "execution_count": 23
        }
      ]
    },
    {
      "cell_type": "code",
      "execution_count": null,
      "metadata": {
        "id": "xoC4UeWtx_Mx"
      },
      "outputs": [],
      "source": [
        "'''\n",
        "Find all of the numbers from 1-1000 that are divisible by 7\n",
        "'''\n",
        "new_list = [num for num in range(1, 1001) if num%7==0]\n",
        "new_list"
      ]
    },
    {
      "cell_type": "code",
      "source": [
        "'''\n",
        "Find all of the numbers from 1-1000 that have a 3 in them\n",
        "'''\n",
        "new_list = [num for num in range(1, 1001) if '3' in str(num)]\n",
        "new_list"
      ],
      "metadata": {
        "id": "rQkcovqcyQbw"
      },
      "execution_count": null,
      "outputs": []
    },
    {
      "cell_type": "code",
      "source": [
        "'''\n",
        "Count the number of spaces in a string\n",
        "'''\n",
        "some_string = 'the slow solid squid swam sumptuously through the slimy swamp'\n",
        "\n",
        "new = [space for space in some_string if ' ' in space]\n",
        "print(len(new))"
      ],
      "metadata": {
        "id": "gIz_poFJybA0",
        "colab": {
          "base_uri": "https://localhost:8080/"
        },
        "outputId": "a44e9d74-d44c-4728-f0f3-0431f4bb9fe5"
      },
      "execution_count": null,
      "outputs": [
        {
          "output_type": "stream",
          "name": "stdout",
          "text": [
            "9\n"
          ]
        }
      ]
    },
    {
      "cell_type": "code",
      "source": [
        "'''\n",
        "Create a list of all the consonants in the string \"Yellow Yaks like yelling and yawning and yesturday they yodled while eating yuky yams\"\n",
        "'''\n",
        "sentence = \"Yellow Yaks like yelling and yawning and yesturday they yodled while eating yuky yams\"\n",
        "\n",
        "new = [s for s in sentence if s!='a' if s!='e' if s!='i' if s!='o' if s!='u' if s!=' ']\n",
        "print(len(new))\n"
      ],
      "metadata": {
        "id": "PFOkO8c3yoRD",
        "colab": {
          "base_uri": "https://localhost:8080/"
        },
        "outputId": "42b24b56-93d0-4782-d90f-c3f9aa0178b9"
      },
      "execution_count": null,
      "outputs": [
        {
          "output_type": "stream",
          "name": "stdout",
          "text": [
            "48\n"
          ]
        }
      ]
    },
    {
      "cell_type": "code",
      "source": [
        "'''\n",
        " Get the index and the value as a tuple for items in the list [\"hi\", 4, 8.99, 'apple', ('t,b','n')].  Result would look like [(index, value), (index, value)]\n",
        " '''\n",
        "list = [\"hi\", 4, 8.99, 'apple', ('t,b','n')]\n",
        "r = [(index, value) for (index, value) in enumerate(list) ]\n",
        "r"
      ],
      "metadata": {
        "id": "b7nRCAHEy1dK",
        "colab": {
          "base_uri": "https://localhost:8080/"
        },
        "outputId": "dbad2f52-c20e-45f8-fe1b-81392b1b6edc"
      },
      "execution_count": null,
      "outputs": [
        {
          "output_type": "execute_result",
          "data": {
            "text/plain": [
              "[(0, 'hi'), (1, 4), (2, 8.99), (3, 'apple'), (4, ('t,b', 'n'))]"
            ]
          },
          "metadata": {},
          "execution_count": 46
        }
      ]
    },
    {
      "cell_type": "code",
      "source": [
        "'''\n",
        "Find the common numbers in two lists (without using a tuple or set) list_a = [1, 2, 3, 4], list_b = [2, 3, 4, 5]\n",
        "'''\n",
        "list_a = [1, 2, 3, 4]\n",
        "list_b = [2, 3, 4, 5]\n",
        "r = [i for i in list_a if i in list_b]\n",
        "r"
      ],
      "metadata": {
        "id": "BruGk2mxy6q9",
        "colab": {
          "base_uri": "https://localhost:8080/"
        },
        "outputId": "5b22913b-dfac-4da4-82ca-98b9e5a78d4a"
      },
      "execution_count": null,
      "outputs": [
        {
          "output_type": "execute_result",
          "data": {
            "text/plain": [
              "[2, 3, 4]"
            ]
          },
          "metadata": {},
          "execution_count": 52
        }
      ]
    },
    {
      "cell_type": "code",
      "source": [
        "'''\n",
        "Get only the numbers in a sentence like 'In 1984 there were 13 instances of a protest with over 1000 people attending'.  Result is a list of numbers like [3,4,5]\n",
        "'''\n",
        "sentence = 'In 1984 there were 13 instances of a protest with over 1000 people attending'\n",
        "word = sentence.split()\n",
        "r = [x for x in word if not x.isalpha()]\n",
        "r"
      ],
      "metadata": {
        "id": "JU9uVJq2zBVB",
        "colab": {
          "base_uri": "https://localhost:8080/"
        },
        "outputId": "4cbe336e-af7d-4b59-81df-8168f325c3d1"
      },
      "execution_count": null,
      "outputs": [
        {
          "output_type": "execute_result",
          "data": {
            "text/plain": [
              "['1984', '13', '1000']"
            ]
          },
          "metadata": {},
          "execution_count": 53
        }
      ]
    },
    {
      "cell_type": "code",
      "source": [
        "'''\n",
        "Produce a list of tuples consisting of only the matching numbers in these lists list_a = [1, 2, 3,4,5,6,7,8,9], list_b = [2, 7, 1, 12].  Result would look like (4,4), (12,12)\n",
        "'''\n",
        "a = [1, 2, 3,4,5,6,7,8,9]\n",
        "b = [2, 7, 1, 12]\n"
      ],
      "metadata": {
        "id": "lc9rl2Nazz1O"
      },
      "execution_count": null,
      "outputs": []
    },
    {
      "cell_type": "code",
      "source": [
        "'''Find all of the words in a string that are less than 4 letters'''\n",
        "sentence = 'On a summer day somner smith went simming in the sun and his red skin stung'\n"
      ],
      "metadata": {
        "id": "Lga5eySb0tJ-"
      },
      "execution_count": null,
      "outputs": []
    }
  ]
}